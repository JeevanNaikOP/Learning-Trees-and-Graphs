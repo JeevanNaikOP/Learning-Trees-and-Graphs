{
    "cells": [
        {
            "cell_type": "markdown",
            "source": [
                "1. Binary Search"
            ],
            "metadata": {}
        },
        {
            "cell_type": "code",
            "execution_count": 2,
            "source": [
                "def binary_search(sorted_list,k):\n",
                "    min=0\n",
                "    max=len(sorted_list)\n",
                "    while(min<=max):\n",
                "        mid=(min+max)//2\n",
                "        if sorted_list[mid]==k:\n",
                "            return mid\n",
                "        elif sorted_list[mid]<k:\n",
                "            min=mid+1\n",
                "        else:\n",
                "            max=mid-1    \n",
                "    return -1      "
            ],
            "outputs": [],
            "metadata": {}
        },
        {
            "cell_type": "code",
            "execution_count": 3,
            "source": [
                "n=[2,4,6,7,8,10,16]\n",
                "binary_search(n,6)"
            ],
            "outputs": [
                {
                    "output_type": "execute_result",
                    "data": {
                        "text/plain": [
                            "2"
                        ]
                    },
                    "metadata": {},
                    "execution_count": 3
                }
            ],
            "metadata": {}
        },
        {
            "cell_type": "code",
            "execution_count": null,
            "source": [
                "class myqueue:\n",
                "    def __init__(self):\n",
                "        self.items=[]\n",
                "\n",
                "    def is_empty(self):\n",
                "        return len(self.items)==0\n",
                "\n",
                "    def enqueue(self,item):\n",
                "        self.items.append(item) \n",
                "\n",
                "    def dequeue(self,item):\n",
                "        self.items.pop(0)\n",
                "\n",
                "    def size(self):\n",
                "        return len(self.items) \n",
                "\n",
                "    def peek(self):\n",
                "        if self.is_empty == True:\n",
                "            raise Exception('Nothing to show')\n",
                "\n",
                "        return self.items[0]                      "
            ],
            "outputs": [],
            "metadata": {}
        },
        {
            "cell_type": "code",
            "execution_count": null,
            "source": [],
            "outputs": [],
            "metadata": {}
        }
    ],
    "metadata": {
        "orig_nbformat": 4,
        "language_info": {
            "name": "python",
            "version": "3.8.10",
            "mimetype": "text/x-python",
            "codemirror_mode": {
                "name": "ipython",
                "version": 3
            },
            "pygments_lexer": "ipython3",
            "nbconvert_exporter": "python",
            "file_extension": ".py"
        },
        "kernelspec": {
            "name": "python3",
            "display_name": "Python 3.8.10 64-bit"
        },
        "interpreter": {
            "hash": "916dbcbb3f70747c44a77c7bcd40155683ae19c65e1c03b4aa3499c5328201f1"
        }
    },
    "nbformat": 4,
    "nbformat_minor": 2
}