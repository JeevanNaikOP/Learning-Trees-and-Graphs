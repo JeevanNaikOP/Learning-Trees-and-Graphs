{
    "cells": [
        {
            "cell_type": "markdown",
            "source": [
                "1. Binary Search"
            ],
            "metadata": {}
        },
        {
            "cell_type": "code",
            "execution_count": 1,
            "source": [
                "def binary_search(sorted_list,k):\n",
                "    min=0\n",
                "    max=len(sorted_list)\n",
                "    while(min<=max):\n",
                "        mid=(min+max)//2\n",
                "        if sorted_list[mid]==k:\n",
                "            return mid\n",
                "        elif sorted_list[mid]<k:\n",
                "            min=mid+1\n",
                "        else:\n",
                "            max=mid-1    \n",
                "    return -1      "
            ],
            "outputs": [],
            "metadata": {}
        },
        {
            "cell_type": "code",
            "execution_count": 2,
            "source": [
                "n=[2,4,6,7,8,10,16]\n",
                "binary_search(n,6)"
            ],
            "outputs": [
                {
                    "output_type": "execute_result",
                    "data": {
                        "text/plain": [
                            "2"
                        ]
                    },
                    "metadata": {},
                    "execution_count": 2
                }
            ],
            "metadata": {}
        },
        {
            "cell_type": "code",
            "execution_count": 3,
            "source": [
                "class node:\n",
                "    def __init__(self,data):\n",
                "        self.left=None\n",
                "        self.right=None\n",
                "        self.data=data\n",
                "\n",
                "    def get_left_child(self):\n",
                "        return self.left\n",
                "\n",
                "    def set_left_child(self,left):\n",
                "        self.left=left        \n",
                "\n",
                "    def get_right_child(self):\n",
                "        return self.right\n",
                "\n",
                "    def set_right_child(self,right):\n",
                "        self.right=right  \n",
                "\n",
                "    def get_val(self):\n",
                "        return self.data\n",
                "\n",
                "    def set_val(self,data):\n",
                "        self.data=data     \n",
                "\n",
                "    def print_tree(self):\n",
                "        if self.left:\n",
                "            self.left.print_tree()\n",
                "        print(self.data)\n",
                "        if self.right:\n",
                "            self.right.print_tree()                  "
            ],
            "outputs": [],
            "metadata": {}
        },
        {
            "cell_type": "code",
            "execution_count": 4,
            "source": [
                "def insert(head,node):\n",
                "    if head==None:\n",
                "        return node\n",
                "\n",
                "    if node.get_val()<=head.get_val():\n",
                "        head.set_left_child(insert(head.get_left_child(),node))\n",
                "        \n",
                "    else:\n",
                "        head.set_right_child(insert(head.get_right_child(),node))    \n",
                "\n",
                "    return head   "
            ],
            "outputs": [],
            "metadata": {}
        },
        {
            "cell_type": "code",
            "execution_count": 5,
            "source": [
                "A=node(5)\n",
                "B=node(20)\n",
                "\n",
                "\n",
                "C=node(3)\n",
                "D=node(4)\n",
                "E=node(2)\n",
                "F=node(68)\n",
                "G=node(72)\n",
                "H=node(81)\n",
                "I=node(23)"
            ],
            "outputs": [],
            "metadata": {}
        },
        {
            "cell_type": "code",
            "execution_count": 6,
            "source": [
                "head=insert(None,E)"
            ],
            "outputs": [],
            "metadata": {}
        },
        {
            "cell_type": "code",
            "execution_count": 7,
            "source": [
                "head.print_tree()"
            ],
            "outputs": [
                {
                    "output_type": "stream",
                    "name": "stdout",
                    "text": [
                        "2\n"
                    ]
                }
            ],
            "metadata": {}
        },
        {
            "cell_type": "code",
            "execution_count": 8,
            "source": [
                "insert(head,A)\n",
                "insert(head,B)\n",
                "insert(head,C)\n",
                "insert(head,D)\n",
                "insert(head,F)\n",
                "insert(head,G)\n",
                "insert(head,H)\n",
                "insert(head,I\n",
                "\n",
                "\n",
                ")"
            ],
            "outputs": [
                {
                    "output_type": "execute_result",
                    "data": {
                        "text/plain": [
                            "<__main__.node at 0x7fb716945e20>"
                        ]
                    },
                    "metadata": {},
                    "execution_count": 8
                }
            ],
            "metadata": {}
        },
        {
            "cell_type": "code",
            "execution_count": 9,
            "source": [
                "head.get_left_child()"
            ],
            "outputs": [],
            "metadata": {}
        },
        {
            "cell_type": "code",
            "execution_count": 10,
            "source": [
                "head.print_tree()"
            ],
            "outputs": [
                {
                    "output_type": "stream",
                    "name": "stdout",
                    "text": [
                        "2\n",
                        "3\n",
                        "4\n",
                        "5\n",
                        "20\n",
                        "23\n",
                        "68\n",
                        "72\n",
                        "81\n"
                    ]
                }
            ],
            "metadata": {}
        },
        {
            "cell_type": "code",
            "execution_count": 11,
            "source": [
                "def lookup(head,data):\n",
                "    if head==None:\n",
                "        return print('data not found')\n",
                "\n",
                "    if head.get_val()==data:\n",
                "        return head\n",
                "\n",
                "    if data < head.get_val():\n",
                "        return lookup(head.get_left_child(),data)\n",
                "\n",
                "    else:\n",
                "        return lookup(head.get_right_child(),data)        \n",
                "\n",
                "def print_node(node):\n",
                "    if node==None:\n",
                "        print('node not found')\n",
                "    print(node.get_val())            "
            ],
            "outputs": [],
            "metadata": {}
        },
        {
            "cell_type": "code",
            "execution_count": 12,
            "source": [
                "print_node(lookup(head,68))"
            ],
            "outputs": [
                {
                    "output_type": "stream",
                    "name": "stdout",
                    "text": [
                        "68\n"
                    ]
                }
            ],
            "metadata": {}
        },
        {
            "cell_type": "code",
            "execution_count": 13,
            "source": [
                "print_node(lookup(head,10))"
            ],
            "outputs": [
                {
                    "output_type": "stream",
                    "name": "stdout",
                    "text": [
                        "data not found\n",
                        "node not found\n"
                    ]
                },
                {
                    "output_type": "error",
                    "ename": "AttributeError",
                    "evalue": "'NoneType' object has no attribute 'get_val'",
                    "traceback": [
                        "\u001b[0;31m---------------------------------------------------------------------------\u001b[0m",
                        "\u001b[0;31mAttributeError\u001b[0m                            Traceback (most recent call last)",
                        "\u001b[0;32m/tmp/ipykernel_1847/297323839.py\u001b[0m in \u001b[0;36m<module>\u001b[0;34m\u001b[0m\n\u001b[0;32m----> 1\u001b[0;31m \u001b[0mprint_node\u001b[0m\u001b[0;34m(\u001b[0m\u001b[0mlookup\u001b[0m\u001b[0;34m(\u001b[0m\u001b[0mhead\u001b[0m\u001b[0;34m,\u001b[0m\u001b[0;36m10\u001b[0m\u001b[0;34m)\u001b[0m\u001b[0;34m)\u001b[0m\u001b[0;34m\u001b[0m\u001b[0;34m\u001b[0m\u001b[0m\n\u001b[0m",
                        "\u001b[0;32m/tmp/ipykernel_1847/3567990287.py\u001b[0m in \u001b[0;36mprint_node\u001b[0;34m(node)\u001b[0m\n\u001b[1;32m     15\u001b[0m     \u001b[0;32mif\u001b[0m \u001b[0mnode\u001b[0m\u001b[0;34m==\u001b[0m\u001b[0;32mNone\u001b[0m\u001b[0;34m:\u001b[0m\u001b[0;34m\u001b[0m\u001b[0;34m\u001b[0m\u001b[0m\n\u001b[1;32m     16\u001b[0m         \u001b[0mprint\u001b[0m\u001b[0;34m(\u001b[0m\u001b[0;34m'node not found'\u001b[0m\u001b[0;34m)\u001b[0m\u001b[0;34m\u001b[0m\u001b[0;34m\u001b[0m\u001b[0m\n\u001b[0;32m---> 17\u001b[0;31m     \u001b[0mprint\u001b[0m\u001b[0;34m(\u001b[0m\u001b[0mnode\u001b[0m\u001b[0;34m.\u001b[0m\u001b[0mget_val\u001b[0m\u001b[0;34m(\u001b[0m\u001b[0;34m)\u001b[0m\u001b[0;34m)\u001b[0m\u001b[0;34m\u001b[0m\u001b[0;34m\u001b[0m\u001b[0m\n\u001b[0m",
                        "\u001b[0;31mAttributeError\u001b[0m: 'NoneType' object has no attribute 'get_val'"
                    ]
                }
            ],
            "metadata": {}
        },
        {
            "cell_type": "code",
            "execution_count": 14,
            "source": [
                "def min_val(head):\n",
                "    current=head\n",
                "    while current.left!=None:\n",
                "        current=current.left\n",
                "    return current.data\n",
                "\n",
                "def max_val(head):\n",
                "    current=head\n",
                "    while current.right!=None:\n",
                "        current=current.right\n",
                "    return current.data       "
            ],
            "outputs": [],
            "metadata": {}
        },
        {
            "cell_type": "code",
            "execution_count": 15,
            "source": [
                "max_val(head)"
            ],
            "outputs": [
                {
                    "output_type": "execute_result",
                    "data": {
                        "text/plain": [
                            "81"
                        ]
                    },
                    "metadata": {},
                    "execution_count": 15
                }
            ],
            "metadata": {}
        },
        {
            "cell_type": "code",
            "execution_count": 16,
            "source": [
                "min_val(head)"
            ],
            "outputs": [
                {
                    "output_type": "execute_result",
                    "data": {
                        "text/plain": [
                            "2"
                        ]
                    },
                    "metadata": {},
                    "execution_count": 16
                }
            ],
            "metadata": {}
        },
        {
            "cell_type": "code",
            "execution_count": 17,
            "source": [
                "class myQueue:\n",
                "    def __init__(self):\n",
                "        self.items=[]\n",
                "\n",
                "    def is_empty(self):\n",
                "        return len(self.items)==0\n",
                "\n",
                "    def enqueue(self,item):\n",
                "        self.items.append(item) \n",
                "\n",
                "    def dequeue(self):\n",
                "        return self.items.pop(0)\n",
                "\n",
                "    def size(self):\n",
                "        return len(self.items) \n",
                "\n",
                "    def peek(self):\n",
                "        if self.is_empty == True:\n",
                "            raise Exception('Nothing to show')\n",
                "\n",
                "        return self.items[0]                      "
            ],
            "outputs": [],
            "metadata": {}
        },
        {
            "cell_type": "code",
            "execution_count": 26,
            "source": [
                "def breadth_first(node):\n",
                "        \n",
                "    if (node == None):\n",
                "        raise Exception(\"No root found!\")\n",
                "    \n",
                "    path = [] \n",
                "    queue = myQueue()\n",
                "    queue.enqueue(node)\n",
                "    \n",
                "    while queue.size() > 0:        \n",
                "        current = queue.dequeue()       \n",
                "        \n",
                "        path.append(current.data)             \n",
                "        \n",
                "        if current.get_left_child() != None:\n",
                "            queue.enqueue(current.get_left_child())           \n",
                "        \n",
                "        if current.get_right_child() != None:\n",
                "            queue.enqueue(current.get_right_child())\n",
                "            \n",
                "    return path        \n",
                "\n",
                "\n"
            ],
            "outputs": [],
            "metadata": {}
        },
        {
            "cell_type": "code",
            "execution_count": 27,
            "source": [
                "breadth_first(E)"
            ],
            "outputs": [
                {
                    "output_type": "execute_result",
                    "data": {
                        "text/plain": [
                            "[2, 5, 3, 20, 4, 68, 23, 72, 81]"
                        ]
                    },
                    "metadata": {},
                    "execution_count": 27
                }
            ],
            "metadata": {}
        },
        {
            "cell_type": "code",
            "execution_count": 30,
            "source": [
                "def pre_order(node):\n",
                "    p=[]\n",
                "    if node:\n",
                "        p.append(node.data)\n",
                "        p=p+pre_order(node.get_left_child())\n",
                "        p=p+pre_order(node.get_right_child())\n",
                "\n",
                "    return p"
            ],
            "outputs": [],
            "metadata": {}
        },
        {
            "cell_type": "code",
            "execution_count": 31,
            "source": [
                "pre_order(E)"
            ],
            "outputs": [
                {
                    "output_type": "execute_result",
                    "data": {
                        "text/plain": [
                            "[2, 5, 3, 4, 20, 68, 23, 72, 81]"
                        ]
                    },
                    "metadata": {},
                    "execution_count": 31
                }
            ],
            "metadata": {}
        },
        {
            "cell_type": "code",
            "execution_count": 32,
            "source": [
                "def in_order(node):\n",
                "    p=[]\n",
                "    if node:\n",
                "        p=p+in_order(node.get_left_child())\n",
                "        p.append(node.data)\n",
                "        p=p+in_order(node.get_right_child())\n",
                "\n",
                "    return p"
            ],
            "outputs": [],
            "metadata": {}
        },
        {
            "cell_type": "code",
            "execution_count": 33,
            "source": [
                "in_order(E)"
            ],
            "outputs": [
                {
                    "output_type": "execute_result",
                    "data": {
                        "text/plain": [
                            "[2, 3, 4, 5, 20, 23, 68, 72, 81]"
                        ]
                    },
                    "metadata": {},
                    "execution_count": 33
                }
            ],
            "metadata": {}
        },
        {
            "cell_type": "code",
            "execution_count": 34,
            "source": [
                "def post_order(node):\n",
                "    p=[]\n",
                "    if node:\n",
                "        p=p+post_order(node.get_left_child())\n",
                "        p=p+post_order(node.get_right_child())\n",
                "        p.append(node.data)\n",
                "\n",
                "    return p"
            ],
            "outputs": [],
            "metadata": {}
        },
        {
            "cell_type": "code",
            "execution_count": 35,
            "source": [
                "post_order(E)"
            ],
            "outputs": [
                {
                    "output_type": "execute_result",
                    "data": {
                        "text/plain": [
                            "[4, 3, 23, 81, 72, 68, 20, 5, 2]"
                        ]
                    },
                    "metadata": {},
                    "execution_count": 35
                }
            ],
            "metadata": {}
        },
        {
            "cell_type": "code",
            "execution_count": null,
            "source": [],
            "outputs": [],
            "metadata": {}
        }
    ],
    "metadata": {
        "orig_nbformat": 4,
        "language_info": {
            "name": "python",
            "version": "3.8.10",
            "mimetype": "text/x-python",
            "codemirror_mode": {
                "name": "ipython",
                "version": 3
            },
            "pygments_lexer": "ipython3",
            "nbconvert_exporter": "python",
            "file_extension": ".py"
        },
        "kernelspec": {
            "name": "python3",
            "display_name": "Python 3.8.10 64-bit"
        },
        "interpreter": {
            "hash": "916dbcbb3f70747c44a77c7bcd40155683ae19c65e1c03b4aa3499c5328201f1"
        }
    },
    "nbformat": 4,
    "nbformat_minor": 2
}